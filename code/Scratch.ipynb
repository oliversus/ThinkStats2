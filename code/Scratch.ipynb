{
 "metadata": {
  "name": "",
  "signature": "sha256:58ef5aef7378f40aba8b5b9a90bbb5a35ea461a97b211fef7cf22678c8a433ff"
 },
 "nbformat": 3,
 "nbformat_minor": 0,
 "worksheets": [
  {
   "cells": [
    {
     "cell_type": "heading",
     "level": 1,
     "metadata": {},
     "source": [
      "This is a scratch notebook"
     ]
    },
    {
     "cell_type": "heading",
     "level": 2,
     "metadata": {},
     "source": [
      "Pregnancy data"
     ]
    },
    {
     "cell_type": "heading",
     "level": 3,
     "metadata": {},
     "source": [
      "Data access"
     ]
    },
    {
     "cell_type": "code",
     "collapsed": false,
     "input": [
      "# read pregnancy data, creating a pandas dataframe\n",
      "import nsfg\n",
      "df = nsfg.ReadFemPreg()\n",
      "df.head()"
     ],
     "language": "python",
     "metadata": {},
     "outputs": [
      {
       "html": [
        "<div style=\"max-width:1500px;overflow:auto;\">\n",
        "<table border=\"1\" class=\"dataframe\">\n",
        "  <thead>\n",
        "    <tr style=\"text-align: right;\">\n",
        "      <th></th>\n",
        "      <th>caseid</th>\n",
        "      <th>pregordr</th>\n",
        "      <th>howpreg_n</th>\n",
        "      <th>howpreg_p</th>\n",
        "      <th>moscurrp</th>\n",
        "      <th>nowprgdk</th>\n",
        "      <th>pregend1</th>\n",
        "      <th>pregend2</th>\n",
        "      <th>nbrnaliv</th>\n",
        "      <th>multbrth</th>\n",
        "      <th>...</th>\n",
        "      <th>laborfor_i</th>\n",
        "      <th>religion_i</th>\n",
        "      <th>metro_i</th>\n",
        "      <th>basewgt</th>\n",
        "      <th>adj_mod_basewgt</th>\n",
        "      <th>finalwgt</th>\n",
        "      <th>secu_p</th>\n",
        "      <th>sest</th>\n",
        "      <th>cmintvw</th>\n",
        "      <th>totalwgt_lb</th>\n",
        "    </tr>\n",
        "  </thead>\n",
        "  <tbody>\n",
        "    <tr>\n",
        "      <th>0</th>\n",
        "      <td>1</td>\n",
        "      <td>1</td>\n",
        "      <td>NaN</td>\n",
        "      <td>NaN</td>\n",
        "      <td>NaN</td>\n",
        "      <td>NaN</td>\n",
        "      <td>6.0</td>\n",
        "      <td>NaN</td>\n",
        "      <td>1.0</td>\n",
        "      <td>NaN</td>\n",
        "      <td>...</td>\n",
        "      <td>0</td>\n",
        "      <td>0</td>\n",
        "      <td>0</td>\n",
        "      <td>3410.389399</td>\n",
        "      <td>3869.349602</td>\n",
        "      <td>6448.271112</td>\n",
        "      <td>2</td>\n",
        "      <td>9</td>\n",
        "      <td>NaN</td>\n",
        "      <td>8.8125</td>\n",
        "    </tr>\n",
        "    <tr>\n",
        "      <th>1</th>\n",
        "      <td>1</td>\n",
        "      <td>2</td>\n",
        "      <td>NaN</td>\n",
        "      <td>NaN</td>\n",
        "      <td>NaN</td>\n",
        "      <td>NaN</td>\n",
        "      <td>6.0</td>\n",
        "      <td>NaN</td>\n",
        "      <td>1.0</td>\n",
        "      <td>NaN</td>\n",
        "      <td>...</td>\n",
        "      <td>0</td>\n",
        "      <td>0</td>\n",
        "      <td>0</td>\n",
        "      <td>3410.389399</td>\n",
        "      <td>3869.349602</td>\n",
        "      <td>6448.271112</td>\n",
        "      <td>2</td>\n",
        "      <td>9</td>\n",
        "      <td>NaN</td>\n",
        "      <td>7.8750</td>\n",
        "    </tr>\n",
        "    <tr>\n",
        "      <th>2</th>\n",
        "      <td>2</td>\n",
        "      <td>1</td>\n",
        "      <td>NaN</td>\n",
        "      <td>NaN</td>\n",
        "      <td>NaN</td>\n",
        "      <td>NaN</td>\n",
        "      <td>5.0</td>\n",
        "      <td>NaN</td>\n",
        "      <td>3.0</td>\n",
        "      <td>5.0</td>\n",
        "      <td>...</td>\n",
        "      <td>0</td>\n",
        "      <td>0</td>\n",
        "      <td>0</td>\n",
        "      <td>7226.301740</td>\n",
        "      <td>8567.549110</td>\n",
        "      <td>12999.542264</td>\n",
        "      <td>2</td>\n",
        "      <td>12</td>\n",
        "      <td>NaN</td>\n",
        "      <td>9.1250</td>\n",
        "    </tr>\n",
        "    <tr>\n",
        "      <th>3</th>\n",
        "      <td>2</td>\n",
        "      <td>2</td>\n",
        "      <td>NaN</td>\n",
        "      <td>NaN</td>\n",
        "      <td>NaN</td>\n",
        "      <td>NaN</td>\n",
        "      <td>6.0</td>\n",
        "      <td>NaN</td>\n",
        "      <td>1.0</td>\n",
        "      <td>NaN</td>\n",
        "      <td>...</td>\n",
        "      <td>0</td>\n",
        "      <td>0</td>\n",
        "      <td>0</td>\n",
        "      <td>7226.301740</td>\n",
        "      <td>8567.549110</td>\n",
        "      <td>12999.542264</td>\n",
        "      <td>2</td>\n",
        "      <td>12</td>\n",
        "      <td>NaN</td>\n",
        "      <td>7.0000</td>\n",
        "    </tr>\n",
        "    <tr>\n",
        "      <th>4</th>\n",
        "      <td>2</td>\n",
        "      <td>3</td>\n",
        "      <td>NaN</td>\n",
        "      <td>NaN</td>\n",
        "      <td>NaN</td>\n",
        "      <td>NaN</td>\n",
        "      <td>6.0</td>\n",
        "      <td>NaN</td>\n",
        "      <td>1.0</td>\n",
        "      <td>NaN</td>\n",
        "      <td>...</td>\n",
        "      <td>0</td>\n",
        "      <td>0</td>\n",
        "      <td>0</td>\n",
        "      <td>7226.301740</td>\n",
        "      <td>8567.549110</td>\n",
        "      <td>12999.542264</td>\n",
        "      <td>2</td>\n",
        "      <td>12</td>\n",
        "      <td>NaN</td>\n",
        "      <td>6.1875</td>\n",
        "    </tr>\n",
        "  </tbody>\n",
        "</table>\n",
        "<p>5 rows \u00d7 244 columns</p>\n",
        "</div>"
       ],
       "metadata": {},
       "output_type": "pyout",
       "prompt_number": 1,
       "text": [
        "   caseid  pregordr  howpreg_n  howpreg_p  moscurrp  nowprgdk  pregend1  \\\n",
        "0       1         1        NaN        NaN       NaN       NaN       6.0   \n",
        "1       1         2        NaN        NaN       NaN       NaN       6.0   \n",
        "2       2         1        NaN        NaN       NaN       NaN       5.0   \n",
        "3       2         2        NaN        NaN       NaN       NaN       6.0   \n",
        "4       2         3        NaN        NaN       NaN       NaN       6.0   \n",
        "\n",
        "   pregend2  nbrnaliv  multbrth     ...       laborfor_i  religion_i  metro_i  \\\n",
        "0       NaN       1.0       NaN     ...                0           0        0   \n",
        "1       NaN       1.0       NaN     ...                0           0        0   \n",
        "2       NaN       3.0       5.0     ...                0           0        0   \n",
        "3       NaN       1.0       NaN     ...                0           0        0   \n",
        "4       NaN       1.0       NaN     ...                0           0        0   \n",
        "\n",
        "       basewgt  adj_mod_basewgt      finalwgt  secu_p  sest  cmintvw  \\\n",
        "0  3410.389399      3869.349602   6448.271112       2     9      NaN   \n",
        "1  3410.389399      3869.349602   6448.271112       2     9      NaN   \n",
        "2  7226.301740      8567.549110  12999.542264       2    12      NaN   \n",
        "3  7226.301740      8567.549110  12999.542264       2    12      NaN   \n",
        "4  7226.301740      8567.549110  12999.542264       2    12      NaN   \n",
        "\n",
        "   totalwgt_lb  \n",
        "0       8.8125  \n",
        "1       7.8750  \n",
        "2       9.1250  \n",
        "3       7.0000  \n",
        "4       6.1875  \n",
        "\n",
        "[5 rows x 244 columns]"
       ]
      }
     ],
     "prompt_number": 1
    },
    {
     "cell_type": "code",
     "collapsed": false,
     "input": [
      "# print/access column names\n",
      "print df.columns[0:9]\n",
      "pregordr = df['pregordr']\n",
      "# df variable is of type series\n",
      "print type(pregordr)\n",
      "# access variables with dot notation\n",
      "caseid = df.caseid"
     ],
     "language": "python",
     "metadata": {},
     "outputs": [
      {
       "output_type": "stream",
       "stream": "stdout",
       "text": [
        "Index([u'caseid', u'pregordr', u'howpreg_n', u'howpreg_p', u'moscurrp',\n",
        "       u'nowprgdk', u'pregend1', u'pregend2', u'nbrnaliv'],\n",
        "      dtype='object')\n",
        "<class 'pandas.core.series.Series'>\n"
       ]
      }
     ],
     "prompt_number": 2
    },
    {
     "cell_type": "heading",
     "level": 3,
     "metadata": {},
     "source": [
      "Data cleaning"
     ]
    },
    {
     "cell_type": "code",
     "collapsed": false,
     "input": [
      "import numpy as np\n",
      "df.agepreg /= 100.\n",
      "df.agepreg\n",
      "na_vals = [97, 98, 99]\n",
      "df.birthwgt_lb.replace(na_vals, np.nan, inplace=True)\n",
      "# or just\n",
      "nsfg.CleanFemPreg\n",
      "# note: when adding new columns to a df, use dictionary syntax and not dot notation\n",
      "df['totalwgt_lb'] = df.birthwgt_lb + df.birthwgt_oz / 16.0\n",
      "# NOT the one below, which merely adds a new attribute\n",
      "df.totalwgt_lb = df.birthwgt_lb + df.birthwgt_oz / 16.0"
     ],
     "language": "python",
     "metadata": {},
     "outputs": [],
     "prompt_number": 3
    },
    {
     "cell_type": "heading",
     "level": 3,
     "metadata": {},
     "source": [
      "Validation"
     ]
    },
    {
     "cell_type": "code",
     "collapsed": false,
     "input": [
      "# comparing values with published table\n",
      "df.outcome.value_counts(sort=False)\n",
      "df.birthwgt_lb.value_counts(sort=False).sort_index()"
     ],
     "language": "python",
     "metadata": {},
     "outputs": [
      {
       "metadata": {},
       "output_type": "pyout",
       "prompt_number": 4,
       "text": [
        "0.0        8\n",
        "1.0       40\n",
        "2.0       53\n",
        "3.0       98\n",
        "4.0      229\n",
        "5.0      697\n",
        "6.0     2223\n",
        "7.0     3049\n",
        "8.0     1889\n",
        "9.0      623\n",
        "10.0     132\n",
        "11.0      26\n",
        "12.0      10\n",
        "13.0       3\n",
        "14.0       3\n",
        "15.0       1\n",
        "Name: birthwgt_lb, dtype: int64"
       ]
      }
     ],
     "prompt_number": 4
    },
    {
     "cell_type": "heading",
     "level": 3,
     "metadata": {},
     "source": [
      "Interpretation"
     ]
    },
    {
     "cell_type": "code",
     "collapsed": false,
     "input": [
      "d = nsfg.MakePregMap(df)\n",
      "indices = d[10229]\n",
      "df.outcome[indices].values"
     ],
     "language": "python",
     "metadata": {},
     "outputs": [
      {
       "metadata": {},
       "output_type": "pyout",
       "prompt_number": 5,
       "text": [
        "array([4, 4, 4, 4, 4, 4, 1])"
       ]
      }
     ],
     "prompt_number": 5
    },
    {
     "cell_type": "code",
     "collapsed": false,
     "input": [
      "df.ager.value_counts().sort_index()\n"
     ],
     "language": "python",
     "metadata": {},
     "outputs": [
      {
       "metadata": {},
       "output_type": "pyout",
       "prompt_number": 6,
       "text": [
        "15      7\n",
        "16     16\n",
        "17     36\n",
        "18     76\n",
        "19    111\n",
        "20    140\n",
        "21    187\n",
        "22    277\n",
        "23    345\n",
        "24    359\n",
        "25    416\n",
        "26    453\n",
        "27    502\n",
        "28    493\n",
        "29    586\n",
        "30    577\n",
        "31    618\n",
        "32    665\n",
        "33    640\n",
        "34    636\n",
        "35    638\n",
        "36    740\n",
        "37    695\n",
        "38    657\n",
        "39    575\n",
        "40    679\n",
        "41    636\n",
        "42    594\n",
        "43    650\n",
        "44    589\n",
        "Name: ager, dtype: int64"
       ]
      }
     ],
     "prompt_number": 6
    },
    {
     "cell_type": "code",
     "collapsed": false,
     "input": [
      "df.outcome.value_counts(sort=False)/len(df.outcome)\n"
     ],
     "language": "python",
     "metadata": {},
     "outputs": [
      {
       "metadata": {},
       "output_type": "pyout",
       "prompt_number": 7,
       "text": [
        "1    0.672993\n",
        "2    0.136982\n",
        "3    0.008828\n",
        "4    0.141323\n",
        "5    0.013978\n",
        "6    0.025896\n",
        "Name: outcome, dtype: float64"
       ]
      }
     ],
     "prompt_number": 7
    },
    {
     "cell_type": "code",
     "collapsed": false,
     "input": [
      "len(df.outcome)"
     ],
     "language": "python",
     "metadata": {},
     "outputs": [
      {
       "metadata": {},
       "output_type": "pyout",
       "prompt_number": 8,
       "text": [
        "13593"
       ]
      }
     ],
     "prompt_number": 8
    },
    {
     "cell_type": "heading",
     "level": 2,
     "metadata": {},
     "source": [
      "Distributions"
     ]
    },
    {
     "cell_type": "heading",
     "level": 3,
     "metadata": {},
     "source": [
      "Histograms"
     ]
    },
    {
     "cell_type": "code",
     "collapsed": false,
     "input": [
      "import thinkstats2\n",
      "# values = np.random.normal(12,2,20)\n",
      "values = [1,2,3,3,4,4,4,4,5,5,6,7,8,9]\n",
      "hist = thinkstats2.Hist(values)\n",
      "hist\n",
      "hist.Freq(3)\n",
      "# or\n",
      "hist[3]\n",
      "hist.Values()\n",
      "for val, freq in hist.Items():\n",
      "    print val, freq"
     ],
     "language": "python",
     "metadata": {},
     "outputs": [
      {
       "output_type": "stream",
       "stream": "stdout",
       "text": [
        "1 1\n",
        "2 1\n",
        "3 2\n",
        "4 4\n",
        "5 2\n",
        "6 1\n",
        "7 1\n",
        "8 1\n",
        "9 1\n"
       ]
      }
     ],
     "prompt_number": 9
    },
    {
     "cell_type": "markdown",
     "metadata": {},
     "source": [
      "Plotting"
     ]
    },
    {
     "cell_type": "code",
     "collapsed": false,
     "input": [
      "import thinkplot\n",
      "#thinkplot.Hist(hist)\n",
      "#thinkplot.Show(xlabel='value', ylabel='frequency')"
     ],
     "language": "python",
     "metadata": {},
     "outputs": [],
     "prompt_number": 10
    },
    {
     "cell_type": "code",
     "collapsed": false,
     "input": [
      "preg = nsfg.ReadFemPreg()\n",
      "live = preg[preg.outcome == 1]\n",
      "hist = thinkstats2.Hist(live.birthwgt_lb, label='birthwgt_lb')\n",
      "thinkplot.Hist(hist)\n",
      "thinkplot.Show(xlabel='pounds', ylabel='frequency')"
     ],
     "language": "python",
     "metadata": {},
     "outputs": []
    },
    {
     "cell_type": "code",
     "collapsed": false,
     "input": [
      "hist = thinkstats2.Hist(live.agepreg, label='agepreg')\n",
      "thinkplot.Hist(hist)\n",
      "thinkplot.Show(xlabel='age', ylabel='frequency')"
     ],
     "language": "python",
     "metadata": {},
     "outputs": []
    },
    {
     "cell_type": "code",
     "collapsed": false,
     "input": [
      "live.agepreg\n"
     ],
     "language": "python",
     "metadata": {},
     "outputs": []
    },
    {
     "cell_type": "code",
     "collapsed": false,
     "input": [],
     "language": "python",
     "metadata": {},
     "outputs": []
    }
   ],
   "metadata": {}
  }
 ]
}